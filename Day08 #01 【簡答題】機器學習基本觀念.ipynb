{
 "cells": [
  {
   "cell_type": "code",
   "execution_count": null,
   "metadata": {},
   "outputs": [],
   "source": [
    "'''\n",
    "1. 機器學習可以分成「監督式學習」與「非監督式學習」，請分別舉一個應用的例子。\n",
    "\n",
    "「監督式學習」：預測結果會有正確答案的，像是預測物價上漲\n",
    "「非監督式學習」：預測結果沒有正確答案，像是預測人類行為\n",
    "\n",
    "2. 線性回歸\u000b",
    "（Linear Regression）能夠利用一個條線代表一組資料的分佈，請問線性回歸是如何找出代表資料點的線？\n",
    "\n",
    "用最小平方函數針對每個點找出代表資料點的線\n",
    "\n",
    "3. 通常越複雜的模型越有可能出現過擬合（Overfitting）的狀況，請問什麼是 Overfitting 呢？實際上又該怎麼避免或解決？\n",
    "\n",
    "在訓練資料上達到100%正確，但是與實際落差極大，可以藉由增加訓練資料或是減少模型複雜度解決\n",
    "\n",
    "4. 承上題，要如何從模型的結果中觀察到可能出現過擬合（Overfitting）的狀況？\n",
    "\n",
    "一定要準備驗證資料，通常預測都會從同一資料哪切成訓練資料跟驗證資料，一部分做訓練另一部分拿來驗證模型狀況，預防過度擬合\n",
    "'''"
   ]
  }
 ],
 "metadata": {
  "kernelspec": {
   "display_name": "Python 3",
   "language": "python",
   "name": "python3"
  },
  "language_info": {
   "codemirror_mode": {
    "name": "ipython",
    "version": 3
   },
   "file_extension": ".py",
   "mimetype": "text/x-python",
   "name": "python",
   "nbconvert_exporter": "python",
   "pygments_lexer": "ipython3",
   "version": "3.7.4"
  }
 },
 "nbformat": 4,
 "nbformat_minor": 2
}
