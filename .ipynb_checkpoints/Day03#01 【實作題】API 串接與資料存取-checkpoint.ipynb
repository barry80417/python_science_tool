{
 "cells": [
  {
   "cell_type": "code",
   "execution_count": 23,
   "metadata": {},
   "outputs": [
    {
     "name": "stdout",
     "output_type": "stream",
     "text": [
      "    neme   count\n",
      "224   穿搭  842138\n",
      "373   西斯  798848\n",
      "233   梗圖  760695\n",
      "228   感情  748494\n",
      "217   美妝  690379\n"
     ]
    }
   ],
   "source": [
    "'''\n",
    "練習：廣受年輕人喜愛的 Dcard 是台灣最大的匿名交流平台，舉凡時事話題、感情心情、吃喝玩樂、學習工作等，都有卡友陪你聊！\n",
    "而我們利用他們所提供的 API 可以取得 Dcard 當中所有看板的資訊，想請你利用此 API 找出「目前大學生最多人訂閱的前五個看板」分別是哪些？\n",
    "'''\n",
    "import requests\n",
    "import json\n",
    "url = 'https://www.dcard.tw/_api/forums'\n",
    "r = requests.get(url)\n",
    "response = r.text\n",
    "data = json.loads(response)\n",
    "\n",
    "name = [i['name'] for i in data]\n",
    "count = [i['subscriptionCount'] for i in data]\n",
    "load_data = {\n",
    "    'neme' : name,\n",
    "    'count' : count\n",
    "}\n",
    "\n",
    "import pandas as pd\n",
    "df = pd.DataFrame(load_data).sort_values('count', ascending = False)\n",
    "print(df.head())"
   ]
  },
  {
   "cell_type": "code",
   "execution_count": 40,
   "metadata": {},
   "outputs": [],
   "source": [
    "import requests\n",
    "import json\n",
    "url = 'https://www.dcard.tw/_api/forums'\n",
    "r = requests.get(url)\n",
    "response = r.text\n",
    "data = json.loads(response)\n",
    "\n",
    "import pandas as pd\n",
    "df = pd.DataFrame(data).sort_values('subscriptionCount', ascending = False)\n",
    "result = df['name'].head()"
   ]
  },
  {
   "cell_type": "code",
   "execution_count": 41,
   "metadata": {},
   "outputs": [
    {
     "data": {
      "text/plain": [
       "224    穿搭\n",
       "373    西斯\n",
       "233    梗圖\n",
       "228    感情\n",
       "217    美妝\n",
       "Name: name, dtype: object"
      ]
     },
     "execution_count": 41,
     "metadata": {},
     "output_type": "execute_result"
    }
   ],
   "source": []
  },
  {
   "cell_type": "code",
   "execution_count": null,
   "metadata": {},
   "outputs": [],
   "source": []
  }
 ],
 "metadata": {
  "kernelspec": {
   "display_name": "Python 3",
   "language": "python",
   "name": "python3"
  },
  "language_info": {
   "codemirror_mode": {
    "name": "ipython",
    "version": 3
   },
   "file_extension": ".py",
   "mimetype": "text/x-python",
   "name": "python",
   "nbconvert_exporter": "python",
   "pygments_lexer": "ipython3",
   "version": "3.7.4"
  }
 },
 "nbformat": 4,
 "nbformat_minor": 2
}
