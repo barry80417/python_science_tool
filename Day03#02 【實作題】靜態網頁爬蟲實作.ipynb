{
 "cells": [
  {
   "cell_type": "code",
   "execution_count": 59,
   "metadata": {},
   "outputs": [],
   "source": [
    "'''\n",
    "練習：Yahoo 奇摩電影提供最新的電影資訊、預告片、劇照、電影時刻表、明星資訊、網友期待榜、網友滿意榜、票房榜和電影相關動態。請試著撰寫爬蟲程式將 Yahoo 奇摩電影中的資訊抓下來，讓你快速瀏覽比較即將上映的電影有哪些值得關注的資訊。\n",
    "\n",
    "❏ Sample Input: https://movies.yahoo.com.tw/movie_thisweek.html（資料來源：Yahoo 奇摩電影 ）\n",
    "\n",
    "❏ Sample Output: 找出「中、英文名稱」、「上映日期」和「期待度」\n",
    "'''\n",
    "\n",
    "import requests\n",
    "url = 'https://movies.yahoo.com.tw/movie_thisweek.html'\n",
    "r = requests.get(url)\n",
    "\n",
    "from bs4 import BeautifulSoup\n",
    "d = BeautifulSoup(r.text, 'html5lib')\n",
    "\n",
    "release_name = d.find_all('div', class_ = 'release_info_text')\n",
    "\n",
    "data = []\n",
    "for i in release_name:\n",
    "    name = i.find('div' , class_ = 'release_movie_name').a.text.strip()\n",
    "    en_name = i.find('div' , class_ = 'en').a.text.strip()\n",
    "    uptime = (i.find('div' , class_ = 'release_movie_time').text.strip()).replace(' ','').replace('\\n','')\n",
    "    level = i.find('div' , class_ = 'leveltext').span.text.strip()\n",
    "    data.append([name,en_name,uptime,level])\n",
    "import pandas as pd\n",
    "df = pd.DataFrame(data,columns=['中文名稱','英文名稱','上映時間','期待值'])"
   ]
  },
  {
   "cell_type": "code",
   "execution_count": 60,
   "metadata": {},
   "outputs": [
    {
     "name": "stdout",
     "output_type": "stream",
     "text": [
      "    中文名稱                               英文名稱             上映時間   期待值\n",
      "0     告白                        Confessions  上映日期：2022-04-29   96%\n",
      "1     售命                      Life For Sale  上映日期：2022-04-29   71%\n",
      "2      鳶                              Tonbi  上映日期：2022-04-29   78%\n",
      "3   記憶殺神                             Memory  上映日期：2022-04-29   79%\n",
      "4   燃燒的劍         Baragaki: Unbroken Samurai  上映日期：2022-04-29   98%\n",
      "5   死間行動                Operation Mincemeat  上映日期：2022-04-29  100%\n",
      "6  決戰星期天                  The Sunday Runoff  上映日期：2022-04-29   86%\n",
      "7   藥命回憶  The Education of Fredrick Fitzell  上映日期：2022-04-29   80%\n",
      "8  真愛超能力                        Superheroes  上映日期：2022-04-29   67%\n",
      "9  超跑斯特拉             Stellar：A Magical ride  上映日期：2022-04-29   75%\n"
     ]
    }
   ],
   "source": [
    "print(df)"
   ]
  },
  {
   "cell_type": "code",
   "execution_count": 54,
   "metadata": {},
   "outputs": [],
   "source": [
    "import requests\n",
    "url = 'https://movies.yahoo.com.tw/movie_thisweek.html'\n",
    "r = requests.get(url)\n",
    "\n",
    "from bs4 import BeautifulSoup\n",
    "d = BeautifulSoup(r.text, 'html5lib')\n",
    "\n",
    "# release_name = d.find_all('div', class_ = 'release_info_text')\n",
    "\n",
    "data = []\n",
    "for i in d.find_all('div', class_ = 'release_info_text'):\n",
    "    data.append({\n",
    "        '中文名稱': i.find('div' , class_ = 'release_movie_name').a.text.strip(),\n",
    "        '英文名稱': i.find('div' , class_ = 'en').a.text.strip(),\n",
    "        '上映時間': (i.find('div' , class_ = 'release_movie_time').text.strip()).replace('\\n','').replace(' ',''),\n",
    "        '期待值': i.find('div' , class_ = 'leveltext').span.text.strip()\n",
    "    })\n",
    "    \n",
    "import pandas as pd\n",
    "df = pd.DataFrame(data)"
   ]
  },
  {
   "cell_type": "code",
   "execution_count": 55,
   "metadata": {},
   "outputs": [
    {
     "name": "stdout",
     "output_type": "stream",
     "text": [
      "    中文名稱                               英文名稱             上映時間   期待值\n",
      "0     告白                        Confessions  上映日期：2022-04-29   96%\n",
      "1     售命                      Life For Sale  上映日期：2022-04-29   71%\n",
      "2      鳶                              Tonbi  上映日期：2022-04-29   78%\n",
      "3   記憶殺神                             Memory  上映日期：2022-04-29   79%\n",
      "4   燃燒的劍         Baragaki: Unbroken Samurai  上映日期：2022-04-29   98%\n",
      "5   死間行動                Operation Mincemeat  上映日期：2022-04-29  100%\n",
      "6  決戰星期天                  The Sunday Runoff  上映日期：2022-04-29   86%\n",
      "7   藥命回憶  The Education of Fredrick Fitzell  上映日期：2022-04-29   80%\n",
      "8  真愛超能力                        Superheroes  上映日期：2022-04-29   67%\n",
      "9  超跑斯特拉             Stellar：A Magical ride  上映日期：2022-04-29   75%\n"
     ]
    }
   ],
   "source": [
    "print(df)"
   ]
  },
  {
   "cell_type": "code",
   "execution_count": null,
   "metadata": {},
   "outputs": [],
   "source": []
  }
 ],
 "metadata": {
  "kernelspec": {
   "display_name": "Python 3",
   "language": "python",
   "name": "python3"
  },
  "language_info": {
   "codemirror_mode": {
    "name": "ipython",
    "version": 3
   },
   "file_extension": ".py",
   "mimetype": "text/x-python",
   "name": "python",
   "nbconvert_exporter": "python",
   "pygments_lexer": "ipython3",
   "version": "3.7.4"
  }
 },
 "nbformat": 4,
 "nbformat_minor": 2
}
