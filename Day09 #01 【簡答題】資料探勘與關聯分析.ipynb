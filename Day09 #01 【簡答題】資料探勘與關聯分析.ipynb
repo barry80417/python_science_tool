{
 "cells": [
  {
   "cell_type": "code",
   "execution_count": null,
   "metadata": {},
   "outputs": [],
   "source": [
    "'''\n",
    "1. 可以試著簡單解釋「統計學」、「機器學習」和「資料探勘」這三者的差異。\n",
    "\n",
    "「統計學」:通常是針對量化資料，對某些已量化數值去做分析，對已知結果進學分析\n",
    "「機器學習」：藉由已知資料運用模型進行訓練，使機器能夠做預測，對未知的結果進行預測\n",
    "「資料探勘」：會針對質化資料進行分析，找出隱藏的資料關聯\n",
    "\n",
    "2. 資料探勘主要專注在「Correlation」的關係，可以舉個例子分享「Correlation」與「Causation」有所差異。\n",
    "\n",
    "「Correlation」：相關性\n",
    "「Causation」：因果關係\n",
    "\n",
    "以最近比較紅的交通為例，速度與車禍傷亡呈正相關的狀態，可以代表速度越快傷亡越嚴重，但是不是速度越快越會發生傷亡，像是高速公路速度快但是車禍\n",
    "傷亡可能就沒有平面道路多，反倒是道路設計失敗才是導致常發生車禍（這才有因果關係）\n",
    "\n",
    "3. 資料探勘是一種資料驅動（Data Driven）的方式，請問什麼是「資料驅動」？\n",
    "\n",
    "藉由資料探勘分析出的資料進行決策，但是先決條件要領導階層也同意才叫好執行，以電影「魔球」為例，他們開始使用資料分析球員，並運用資料挑選，但是\n",
    "決策出來結果，執行方不協助執行，所以一開始也沒有好結果。\n",
    "\n",
    "4. 在關聯分析方法中，有 Apriori 和 Association Rules 兩種算法，請問他們的差異是什麼？\n",
    "\n",
    "Apriori是Association Rules的一種計算方式，Apriori會逐漸淘汰不頻繁出現的關聯，但是關聯分析要找的有可能是表面看不出來的，這對決策有差\n",
    "Apriori旨在降低關聯規則數量，加快運算速度\n",
    "'''"
   ]
  }
 ],
 "metadata": {
  "kernelspec": {
   "display_name": "Python 3",
   "language": "python",
   "name": "python3"
  },
  "language_info": {
   "codemirror_mode": {
    "name": "ipython",
    "version": 3
   },
   "file_extension": ".py",
   "mimetype": "text/x-python",
   "name": "python",
   "nbconvert_exporter": "python",
   "pygments_lexer": "ipython3",
   "version": "3.7.4"
  }
 },
 "nbformat": 4,
 "nbformat_minor": 2
}
