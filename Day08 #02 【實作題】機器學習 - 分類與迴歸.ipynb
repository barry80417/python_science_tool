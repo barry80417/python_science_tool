{
 "cells": [
  {
   "cell_type": "code",
   "execution_count": null,
   "metadata": {},
   "outputs": [],
   "source": [
    "'''\n",
    "#練習：請根據給定的資料集，分成前 7 筆的訓練資料與後 3 筆的測試資料完成以下兩個分析：\n",
    "\n",
    "利用 Country, Age, Salary 對 Purchased 進行分類學習，印出後三筆資料的 Purchased 為何\n",
    "利用 Country, Age, Purchased 對 Salary 進行迴歸學習，印出後三筆資料的 Salary 為何\n",
    "'''"
   ]
  },
  {
   "cell_type": "code",
   "execution_count": 3,
   "metadata": {},
   "outputs": [
    {
     "name": "stdout",
     "output_type": "stream",
     "text": [
      "Optimization terminated successfully.\n",
      "         Current function value: 0.578885\n",
      "         Iterations 9\n",
      "                           Logit Regression Results                           \n",
      "==============================================================================\n",
      "Dep. Variable:              Purchased   No. Observations:                    7\n",
      "Model:                          Logit   Df Residuals:                        2\n",
      "Method:                           MLE   Df Model:                            4\n",
      "Date:                Tue, 07 Jun 2022   Pseudo R-squ.:                  0.1523\n",
      "Time:                        15:12:06   Log-Likelihood:                -4.0522\n",
      "converged:                       True   LL-Null:                       -4.7804\n",
      "Covariance Type:            nonrobust   LLR p-value:                    0.8343\n",
      "===================================================================================\n",
      "                      coef    std err          z      P>|z|      [0.025      0.975]\n",
      "-----------------------------------------------------------------------------------\n",
      "const               5.7461   6.25e+07   9.19e-08      1.000   -1.23e+08    1.23e+08\n",
      "Age                -0.1109      0.324     -0.343      0.732      -0.745       0.523\n",
      "Country_France      2.9136   6.25e+07   4.66e-08      1.000   -1.23e+08    1.23e+08\n",
      "Country_Germany     2.0122   6.25e+07   3.22e-08      1.000   -1.23e+08    1.23e+08\n",
      "Country_Spain       0.8203   6.25e+07   1.31e-08      1.000   -1.23e+08    1.23e+08\n",
      "Salary          -6.583e-05      0.000     -0.224      0.823      -0.001       0.001\n",
      "===================================================================================\n",
      "7    0.134202\n",
      "8    0.037298\n",
      "9    0.536333\n",
      "dtype: float64\n"
     ]
    }
   ],
   "source": [
    "import pandas as pd\n",
    "import statsmodels.api as sm\n",
    "\n",
    "source = 'https://raw.githubusercontent.com/MachineLearningLiuMing/scikit-learn-primer-guide/master/Data.csv'\n",
    "df = pd.read_csv(source)\n",
    "\n",
    "#資料用平均值填滿\n",
    "# df['Age'].fillna(value = df['Age'].mean(),inplace = True)\n",
    "# df['Salary'] .fillna(value = df['Salary'].mean(), inplace=True)\n",
    "\n",
    "df[['Age','Salary']] = df[['Age','Salary']].fillna(df[['Age','Salary']].mean())\n",
    "\n",
    "#將Purchased做LabelEncoding\n",
    "from sklearn.preprocessing import LabelEncoder\n",
    "labelencoder = LabelEncoder()\n",
    "df['Purchased'] = labelencoder.fit_transform(df['Purchased'])\n",
    "\n",
    "#用Pandas將country做onehotencoding\n",
    "df= pd.get_dummies(df, columns = ['Country'])\n",
    "\n",
    "\n",
    "test = df.iloc[-3:]\n",
    "testy = test['Purchased']\n",
    "testX = sm.add_constant(test[test.columns.difference(['Purchased'])])\n",
    "\n",
    "train = df.iloc[:-3]\n",
    "y = train['Purchased']\n",
    "X = sm.add_constant(train[train.columns.difference(['Purchased'])])\n",
    "\n",
    "model = sm.Logit(y, X).fit()\n",
    "print(model.summary())\n",
    "print(model.predict(testX))"
   ]
  },
  {
   "cell_type": "code",
   "execution_count": 123,
   "metadata": {},
   "outputs": [
    {
     "name": "stdout",
     "output_type": "stream",
     "text": [
      "                            OLS Regression Results                            \n",
      "==============================================================================\n",
      "Dep. Variable:                 Salary   R-squared:                       0.832\n",
      "Model:                            OLS   Adj. R-squared:                  0.497\n",
      "Method:                 Least Squares   F-statistic:                     2.483\n",
      "Date:                Fri, 03 Jun 2022   Prob (F-statistic):              0.307\n",
      "Time:                        20:52:54   Log-Likelihood:                -66.100\n",
      "No. Observations:                   7   AIC:                             142.2\n",
      "Df Residuals:                       2   BIC:                             141.9\n",
      "Df Model:                           4                                         \n",
      "Covariance Type:            nonrobust                                         \n",
      "===================================================================================\n",
      "                      coef    std err          t      P>|t|      [0.025      0.975]\n",
      "-----------------------------------------------------------------------------------\n",
      "const            1.867e+04   1.37e+04      1.363      0.306   -4.02e+04    7.76e+04\n",
      "Age               950.6184    470.961      2.018      0.181   -1075.761    2976.998\n",
      "Country_France   9091.5840   6966.790      1.305      0.322   -2.09e+04    3.91e+04\n",
      "Country_Germany  7258.2556   5215.762      1.392      0.299   -1.52e+04    2.97e+04\n",
      "Country_Spain    2319.7794   4476.527      0.518      0.656   -1.69e+04    2.16e+04\n",
      "Purchased        -621.2574   4857.158     -0.128      0.910   -2.15e+04    2.03e+04\n",
      "==============================================================================\n",
      "Omnibus:                          nan   Durbin-Watson:                   0.868\n",
      "Prob(Omnibus):                    nan   Jarque-Bera (JB):                0.620\n",
      "Skew:                          -0.673   Prob(JB):                        0.733\n",
      "Kurtosis:                       2.440   Cond. No.                     1.45e+18\n",
      "==============================================================================\n",
      "\n",
      "Warnings:\n",
      "[1] Standard Errors assume that the covariance matrix of the errors is correctly specified.\n",
      "[2] The smallest eigenvalue is 4.42e-33. This might indicate that there are\n",
      "strong multicollinearity problems or that the design matrix is singular.\n",
      "7    72769.627475\n",
      "8    73458.793155\n",
      "9    62312.825384\n",
      "dtype: float64\n"
     ]
    },
    {
     "name": "stderr",
     "output_type": "stream",
     "text": [
      "/opt/anaconda3/lib/python3.7/site-packages/statsmodels/stats/stattools.py:71: ValueWarning: omni_normtest is not valid with less than 8 observations; 7 samples were given.\n",
      "  \"samples were given.\" % int(n), ValueWarning)\n"
     ]
    }
   ],
   "source": [
    "import pandas as pd\n",
    "import statsmodels.api as sm\n",
    "\n",
    "source = 'https://raw.githubusercontent.com/MachineLearningLiuMing/scikit-learn-primer-guide/master/Data.csv'\n",
    "df = pd.read_csv(source)\n",
    "\n",
    "#資料用平均值填滿\n",
    "df['Age'].fillna(value = df['Age'].mean(),inplace = True)\n",
    "df['Salary'] .fillna(value = df['Salary'].mean(), inplace=True)\n",
    "\n",
    "#將Purchased做LabelEncoding\n",
    "from sklearn.preprocessing import LabelEncoder\n",
    "labelencoder = LabelEncoder()\n",
    "df['Purchased'] = labelencoder.fit_transform(df['Purchased'])\n",
    "\n",
    "#用Pandas將country做onehotencoding\n",
    "df= pd.get_dummies(df, columns = ['Country'])\n",
    "\n",
    "test = df.iloc[-3:]\n",
    "testy = test['Salary']\n",
    "testX = sm.add_constant(test[test.columns.difference(['Salary'])])\n",
    "\n",
    "train = df.iloc[:-3]\n",
    "y = train['Salary']\n",
    "X = sm.add_constant(train[train.columns.difference(['Salary'])])\n",
    "\n",
    "model = sm.OLS(y, X).fit()\n",
    "print(model.summary())\n",
    "print(model.predict(testX))"
   ]
  },
  {
   "cell_type": "code",
   "execution_count": null,
   "metadata": {},
   "outputs": [],
   "source": []
  }
 ],
 "metadata": {
  "kernelspec": {
   "display_name": "Python 3",
   "language": "python",
   "name": "python3"
  },
  "language_info": {
   "codemirror_mode": {
    "name": "ipython",
    "version": 3
   },
   "file_extension": ".py",
   "mimetype": "text/x-python",
   "name": "python",
   "nbconvert_exporter": "python",
   "pygments_lexer": "ipython3",
   "version": "3.7.4"
  }
 },
 "nbformat": 4,
 "nbformat_minor": 2
}
