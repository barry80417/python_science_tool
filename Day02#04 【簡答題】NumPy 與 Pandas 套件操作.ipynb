{
 "cells": [
  {
   "cell_type": "code",
   "execution_count": null,
   "metadata": {},
   "outputs": [],
   "source": [
    "'''\n",
    "1. 可以簡單說明 Pandas 與 NumPy 分別想要解決的問題是什麼？\n",
    "\n",
    "Numpyg是數值計算擴展，運算效率比列表高\n",
    "\n",
    "Pandas是基於Numpy的數據分析工具，是以列表作為計算\n",
    "\n",
    "2. Pandas 中的 DataFrame 和 Series 跟 NumPy 中的一維、二維 Array 有什麼差別？\n",
    "\n",
    "pandas的Series是一個類似陣列的物件，DataFrame則是表格，如果給定index其他沒給定，則會自己分配，可以有不同屬性的資料在內\n",
    "Numpy一維像是Series，二維則是DataFrame樣式，但是資料要相同屬性\n",
    "\n",
    "3. 什麼是 Pandas/NumPy 中的「廣播」的運算特性？\n",
    "\n",
    "「廣播」只得是在不同維度的數組資料間進行運算，像是一個Series與DataFrame相加，但前提是維度要大於1\n",
    "\n",
    "4. NumPy 中資料型態 uint、int16、int_ 跟原本 Python 中的 int 有什麼差異？Pandas 中的 categorical 型態是什麼？\n",
    "\n",
    "int_ =>默認為整數型態，長度約等於int32或int64\n",
    "int16 =>為整數型態，值介於-32768~32767\n",
    "uint =>無符號整數\n",
    "\n",
    "categorical為預先定義的類別資料，像是預先定義'job'為services或是management之類的\n",
    "\n",
    "5. 為什麼 NumPy 可以比較有效率的處理資料？\n",
    "\n",
    "Numpy如果是array的資料不需要每次都直接進底層才能拿取，且不同用python list要每次拿一大段，所以取得資料時可以更快速，並且花費更少記憶體空間\n",
    "'''\n"
   ]
  }
 ],
 "metadata": {
  "kernelspec": {
   "display_name": "Python 3",
   "language": "python",
   "name": "python3"
  },
  "language_info": {
   "codemirror_mode": {
    "name": "ipython",
    "version": 3
   },
   "file_extension": ".py",
   "mimetype": "text/x-python",
   "name": "python",
   "nbconvert_exporter": "python",
   "pygments_lexer": "ipython3",
   "version": "3.7.4"
  }
 },
 "nbformat": 4,
 "nbformat_minor": 2
}
