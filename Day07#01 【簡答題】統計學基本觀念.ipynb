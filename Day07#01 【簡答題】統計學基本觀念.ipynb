{
 "cells": [
  {
   "cell_type": "code",
   "execution_count": 1,
   "metadata": {},
   "outputs": [
    {
     "data": {
      "text/plain": [
       "'\\n1. 請問「質化資料 (qualitative data) 」與「量化資料 (quantitative data) 」差別是什麼？\\n\\n「質化資料 (qualitative data) 」：不屬於數值的資料，像是文字，需要經過轉換電腦才能理解，主要是裡面資料的關聯。\\n「量化資料 (quantitative data) 」：已經是數值的資料，還是得經過分析前的清理，分析的是變數之間的關係。\\n\\n2. 描述統計中有三組指標「最大值、最小值和總和」、「眾數、均值和中位數」和「變異數、標準差、斜方差和分位數」 ，請問這三組分別可以看出資料的哪些趨勢？\\n\\n「最大值、最小值和總和」：可以了解母體的區間跟大小\\n「眾數、均值和中位數」：了解資料相對多的區間（了解資料的集中程度）\\n「變異數、標準差、斜方差和分位數」：了解資料的離散程度（分散程度\\n\\n3. 相關係數分析能夠看出兩組資料間的關係，請問什麼叫做「正相關」、「無相關」與「負相關」？\\n\\n「正相關」：兩組資料關係相近，內容可能呈現對比成長\\n「無相關」：兩組資料完全沒有關聯\\n「負相關」：兩組資料互斥，呈現反比成長\\n\\n4. 在統計中有一句話叫做「Correlation is not causation.」，這句話的想表達的含義是什麼呢？\\n\\n統計裡面因果關係跟關聯是分開的，因為Ａ跟Ｂ有關聯不等於因為Ａ才有Ｂ\\n\\n5. 模型的誤差可以分為「Bias」和「Variance」，請解釋這兩者分別代表什麼誤差？\\n\\n「Bias」：偏差，意思比較像是跟正確答案相比的差別\\n「Variance」：像是預測值與其實際值的差別\\n\\n\\n'"
      ]
     },
     "execution_count": 1,
     "metadata": {},
     "output_type": "execute_result"
    }
   ],
   "source": [
    "'''\n",
    "1. 請問「質化資料 (qualitative data) 」與「量化資料 (quantitative data) 」差別是什麼？\n",
    "\n",
    "「質化資料 (qualitative data) 」：不屬於數值的資料，像是文字，需要經過轉換電腦才能理解，主要是裡面資料的關聯。\n",
    "「量化資料 (quantitative data) 」：已經是數值的資料，還是得經過分析前的清理，分析的是變數之間的關係。\n",
    "\n",
    "2. 描述統計中有三組指標「最大值、最小值和總和」、「眾數、均值和中位數」和「變異數、標準差、斜方差和分位數」 ，請問這三組分別可以看出資料的哪些趨勢？\n",
    "\n",
    "「最大值、最小值和總和」：可以了解母體的區間跟大小\n",
    "「眾數、均值和中位數」：了解資料相對多的區間（了解資料的集中程度）\n",
    "「變異數、標準差、斜方差和分位數」：了解資料的離散程度（分散程度）\n",
    "\n",
    "3. 相關係數分析能夠看出兩組資料間的關係，請問什麼叫做「正相關」、「無相關」與「負相關」？\n",
    "\n",
    "「正相關」：兩組資料關係相近，內容可能呈現對比成長\n",
    "「無相關」：兩組資料完全沒有關聯\n",
    "「負相關」：兩組資料互斥，呈現反比成長\n",
    "\n",
    "4. 在統計中有一句話叫做「Correlation is not causation.」，這句話的想表達的含義是什麼呢？\n",
    "\n",
    "統計裡面因果關係跟關聯是分開的，因為Ａ跟Ｂ有關聯不等於因為Ａ才有Ｂ\n",
    "\n",
    "5. 模型的誤差可以分為「Bias」和「Variance」，請解釋這兩者分別代表什麼誤差？\n",
    "\n",
    "「Bias」：偏差，意思比較像是跟正確答案相比的差別，模型的預測結果與真實值得誤差，可能是因為訓練資料抽樣分布不均、模型複雜度過低等\n",
    "「Variance」：只模型預測‘只模型預測結果變異誤差，像是複雜模型的線圖可能比較不規律，資料稍微變動結果就不一樣\n",
    "\n",
    "\n",
    "'''"
   ]
  },
  {
   "cell_type": "code",
   "execution_count": null,
   "metadata": {},
   "outputs": [],
   "source": []
  }
 ],
 "metadata": {
  "kernelspec": {
   "display_name": "Python 3",
   "language": "python",
   "name": "python3"
  },
  "language_info": {
   "codemirror_mode": {
    "name": "ipython",
    "version": 3
   },
   "file_extension": ".py",
   "mimetype": "text/x-python",
   "name": "python",
   "nbconvert_exporter": "python",
   "pygments_lexer": "ipython3",
   "version": "3.7.4"
  }
 },
 "nbformat": 4,
 "nbformat_minor": 2
}
