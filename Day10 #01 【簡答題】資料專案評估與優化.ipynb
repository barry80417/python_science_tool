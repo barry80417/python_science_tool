{
 "cells": [
  {
   "cell_type": "code",
   "execution_count": null,
   "metadata": {},
   "outputs": [],
   "source": [
    "'''\n",
    "1. 在分類模型中我們可以利用「Recall」和「Precision」進行模型評估，請問這兩種方法有什麼差別？\n",
    "\n",
    "Precision是在看預測的準確度，Recall是召回率，兩者計算的分母不一樣，Precision是只在所有預測中，預測成功的有多少\n",
    "Recall則是指在所有預測中，有多少數據是被成功預測為真的\n",
    "\n",
    "2. 在回歸模型中我們可以利用「MSE」和「MAE」進行模型評估，請問這兩種方法有什麼差別？\n",
    "\n",
    "MSE計算較為便利，但是特殊值預測時MAE能得到更好的成果，但是對於神經網路來說，使用MAE學習曲線過大，可能造成誤判\n",
    "MAE = |預測值-真實值|\n",
    "MSE = (預測值-真實值)^2\n",
    "如果離群值在商業邏輯中是很重要的異常情況，需要被檢測出來，則選用MSE;如果只把異常值當成受損數據，則選用MAE\n",
    "\n",
    "3. 請問模型評估的指標（例如 Recall、MSE）跟「交叉驗證（Cross-Validation）」之間有什麼關係？\n",
    "\n",
    "評估指標只是評估一次來判斷現階段狀況，但是會取得的值不一定是評估所有，所以這時候就需要交叉驗證，藉由多次取得不同樣本的值做評估來判斷\n",
    "實際評估狀況，就不會有剛好取得樣本較好，所以評估數值很好的狀況發生\n",
    "'''"
   ]
  }
 ],
 "metadata": {
  "kernelspec": {
   "display_name": "Python 3",
   "language": "python",
   "name": "python3"
  },
  "language_info": {
   "codemirror_mode": {
    "name": "ipython",
    "version": 3
   },
   "file_extension": ".py",
   "mimetype": "text/x-python",
   "name": "python",
   "nbconvert_exporter": "python",
   "pygments_lexer": "ipython3",
   "version": "3.7.4"
  }
 },
 "nbformat": 4,
 "nbformat_minor": 2
}
