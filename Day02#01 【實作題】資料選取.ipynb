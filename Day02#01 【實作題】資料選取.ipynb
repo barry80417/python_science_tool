{
 "cells": [
  {
   "cell_type": "code",
   "execution_count": null,
   "metadata": {},
   "outputs": [],
   "source": [
    "'''\n",
    "Day02 作業#01 【實作題】資料選取\n",
    "#練習：請從給定的 DataFrame 分別篩選出符合條件的資料：\n",
    "# - 1. filtered by first column > 20?\n",
    "# - 2. filtered by first column + second column > 50\n",
    "# - 3. filtered by first column < 30 or second column > 30\n",
    "# - 4. filtered by total sum of row > 100\n",
    "'''"
   ]
  },
  {
   "cell_type": "code",
   "execution_count": 15,
   "metadata": {},
   "outputs": [],
   "source": [
    "import pandas as pd\n",
    "import numpy as np\n",
    "df = pd.DataFrame(np.random.randint(10, 40, 60).reshape(-1, 4))\n",
    "\n",
    "# - 1. filtered by first column > 20?\n",
    "ans1 = df[df[0]>20]\n",
    "\n",
    "\n",
    "# - 2. filtered by first column + second column > 50\n",
    "ans2 = df[(df[0]+df[1])>50]\n",
    "\n",
    "# - 3. filtered by first column < 30 or second column > 30\n",
    "ans3 = df[(df[0] < 30) | (df[1] > 30)]\n",
    "\n",
    "# - 4. filtered by total sum of row > 100\n",
    "ans4 = df[df.sum(axis = 1)>100]"
   ]
  }
 ],
 "metadata": {
  "kernelspec": {
   "display_name": "Python 3",
   "language": "python",
   "name": "python3"
  },
  "language_info": {
   "codemirror_mode": {
    "name": "ipython",
    "version": 3
   },
   "file_extension": ".py",
   "mimetype": "text/x-python",
   "name": "python",
   "nbconvert_exporter": "python",
   "pygments_lexer": "ipython3",
   "version": "3.7.4"
  }
 },
 "nbformat": 4,
 "nbformat_minor": 2
}
