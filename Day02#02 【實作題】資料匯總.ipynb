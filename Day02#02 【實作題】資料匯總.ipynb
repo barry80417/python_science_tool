{
 "cells": [
  {
   "cell_type": "code",
   "execution_count": null,
   "metadata": {},
   "outputs": [],
   "source": [
    "'''\n",
    "#練習：請利用 Pandas 計算給定的資料中不同 weekday 的 visitor 總和為何？\n",
    "'''"
   ]
  },
  {
   "cell_type": "code",
   "execution_count": 33,
   "metadata": {},
   "outputs": [
    {
     "name": "stdout",
     "output_type": "stream",
     "text": [
      "{'Sun': 376, 'Mon': 782}\n"
     ]
    }
   ],
   "source": [
    "import pandas as pd\n",
    "import numpy as np\n",
    "\n",
    "d = [\n",
    "    {'city': 'Austin', 'visitor': 139, 'weekday': 'Sun'},\n",
    "    {'city': 'Dallas', 'visitor': 237, 'weekday': 'Sun'},\n",
    "    {'city': 'Austin', 'visitor': 326, 'weekday': 'Mon'},\n",
    "    {'city': 'Dallas', 'visitor': 456, 'weekday': 'Mon'}\n",
    "]\n",
    "\n",
    "df = pd.DataFrame(d)\n",
    "ans = df.groupby('weekday')['visitor'].sum()\n",
    "print(dict(ans.sort_values(ascending = True)))"
   ]
  },
  {
   "cell_type": "code",
   "execution_count": null,
   "metadata": {},
   "outputs": [],
   "source": []
  }
 ],
 "metadata": {
  "kernelspec": {
   "display_name": "Python 3",
   "language": "python",
   "name": "python3"
  },
  "language_info": {
   "codemirror_mode": {
    "name": "ipython",
    "version": 3
   },
   "file_extension": ".py",
   "mimetype": "text/x-python",
   "name": "python",
   "nbconvert_exporter": "python",
   "pygments_lexer": "ipython3",
   "version": "3.7.4"
  }
 },
 "nbformat": 4,
 "nbformat_minor": 2
}
